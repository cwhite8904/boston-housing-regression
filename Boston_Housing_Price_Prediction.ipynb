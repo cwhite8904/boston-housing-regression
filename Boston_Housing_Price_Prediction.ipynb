{
 "cells": [
  {
   "cell_type": "markdown",
   "id": "e7e53451",
   "metadata": {},
   "source": [
    "# 🏠 Boston Housing Price Prediction\n",
    "**Objective:** Build and evaluate a machine learning regression model to predict housing prices (MEDV) using the Boston Housing dataset.\n",
    "\n",
    "**Tech Stack:** Python, Pandas, Matplotlib, Seaborn, Scikit-Learn, Joblib"
   ]
  },
  {
   "cell_type": "code",
   "execution_count": null,
   "id": "8c1b7b0b",
   "metadata": {},
   "outputs": [],
   "source": [
    "import pandas as pd\n",
    "import numpy as np\n",
    "import matplotlib.pyplot as plt\n",
    "import seaborn as sns\n",
    "\n",
    "from sklearn.model_selection import train_test_split, GridSearchCV\n",
    "from sklearn.linear_model import LinearRegression\n",
    "from sklearn.ensemble import RandomForestRegressor\n",
    "from sklearn.metrics import mean_squared_error, mean_absolute_error, r2_score\n",
    "from sklearn.preprocessing import StandardScaler\n",
    "import joblib"
   ]
  },
  {
   "cell_type": "code",
   "execution_count": null,
   "id": "ecc85791",
   "metadata": {},
   "outputs": [],
   "source": [
    "df = pd.read_csv(\"cleaned_housing_data.csv\")\n",
    "df.head()\n",
    "df.info()\n",
    "df.describe()"
   ]
  },
  {
   "cell_type": "code",
   "execution_count": null,
   "id": "bb048ce4",
   "metadata": {},
   "outputs": [],
   "source": [
    "# Target distribution\n",
    "sns.histplot(df['MEDV'], kde=True, bins=30)\n",
    "plt.title('Distribution of MEDV')\n",
    "plt.show()\n",
    "\n",
    "# Correlation heatmap\n",
    "plt.figure(figsize=(12, 10))\n",
    "sns.heatmap(df.corr(), annot=True, fmt=\".2f\", cmap='coolwarm')\n",
    "plt.title('Correlation Heatmap')\n",
    "plt.show()"
   ]
  },
  {
   "cell_type": "code",
   "execution_count": null,
   "id": "1b5519c7",
   "metadata": {},
   "outputs": [],
   "source": [
    "X = df.drop('MEDV', axis=1)\n",
    "y = df['MEDV']\n",
    "\n",
    "scaler = StandardScaler()\n",
    "X_scaled = scaler.fit_transform(X)"
   ]
  },
  {
   "cell_type": "code",
   "execution_count": null,
   "id": "8bfa86be",
   "metadata": {},
   "outputs": [],
   "source": [
    "X_train, X_test, y_train, y_test = train_test_split(\n",
    "    X_scaled, y, test_size=0.2, random_state=42\n",
    ")"
   ]
  },
  {
   "cell_type": "code",
   "execution_count": null,
   "id": "b06ff57b",
   "metadata": {},
   "outputs": [],
   "source": [
    "lr_model = LinearRegression()\n",
    "lr_model.fit(X_train, y_train)\n",
    "y_pred_lr = lr_model.predict(X_test)\n",
    "\n",
    "print(f\"R² Score: {r2_score(y_test, y_pred_lr):.4f}\")\n",
    "print(f\"RMSE: {np.sqrt(mean_squared_error(y_test, y_pred_lr)):.2f}\")\n",
    "print(f\"MAE: {mean_absolute_error(y_test, y_pred_lr):.2f}\")"
   ]
  },
  {
   "cell_type": "code",
   "execution_count": null,
   "id": "e22ff786",
   "metadata": {},
   "outputs": [],
   "source": [
    "rf_model = RandomForestRegressor(n_estimators=100, random_state=42)\n",
    "rf_model.fit(X_train, y_train)\n",
    "y_pred_rf = rf_model.predict(X_test)\n",
    "\n",
    "print(f\"Random Forest R²: {r2_score(y_test, y_pred_rf):.4f}\")\n",
    "print(f\"Random Forest RMSE: {np.sqrt(mean_squared_error(y_test, y_pred_rf)):.2f}\")\n",
    "print(f\"Random Forest MAE: {mean_absolute_error(y_test, y_pred_rf):.2f}\")"
   ]
  },
  {
   "cell_type": "code",
   "execution_count": null,
   "id": "434252f6",
   "metadata": {},
   "outputs": [],
   "source": [
    "param_grid = {\n",
    "    'n_estimators': [100, 200],\n",
    "    'max_depth': [None, 10, 20],\n",
    "    'min_samples_split': [2, 5],\n",
    "    'min_samples_leaf': [1, 2]\n",
    "}\n",
    "\n",
    "grid_search = GridSearchCV(\n",
    "    RandomForestRegressor(random_state=42),\n",
    "    param_grid,\n",
    "    cv=5,\n",
    "    scoring='neg_mean_squared_error',\n",
    "    n_jobs=-1,\n",
    "    verbose=1\n",
    ")\n",
    "\n",
    "grid_search.fit(X_train, y_train)\n",
    "best_rf_model = grid_search.best_estimator_\n",
    "y_pred_best = best_rf_model.predict(X_test)\n",
    "\n",
    "print(\"Best Params:\", grid_search.best_params_)\n",
    "print(f\"Tuned RF R²: {r2_score(y_test, y_pred_best):.4f}\")"
   ]
  },
  {
   "cell_type": "code",
   "execution_count": null,
   "id": "03391677",
   "metadata": {},
   "outputs": [],
   "source": [
    "joblib.dump(best_rf_model, 'best_random_forest_model.joblib')"
   ]
  },
  {
   "cell_type": "code",
   "execution_count": null,
   "id": "8e062f9d",
   "metadata": {},
   "outputs": [],
   "source": [
    "predictions_df = pd.DataFrame({\n",
    "    'Actual MEDV': y_test.values,\n",
    "    'Predicted MEDV': y_pred_best\n",
    "})\n",
    "predictions_df.to_csv('rf_predictions.csv', index=False)\n",
    "predictions_df.head()"
   ]
  },
  {
   "cell_type": "markdown",
   "id": "f578ac43",
   "metadata": {},
   "source": [
    "## ✅ Conclusion\n",
    "\n",
    "- **Best Model:** Tuned Random Forest Regressor  \n",
    "- **R² Score:** ~0.864  \n",
    "- **RMSE:** ~$2,750  \n",
    "- The model performs well and could be used for deployment or integration into a dashboard.\n",
    "\n",
    "---\n",
    "\n",
    "**Next Steps:**\n",
    "- Try XGBoost or LightGBM\n",
    "- Deploy with Streamlit or Flask\n",
    "- Build a Power BI Dashboard from predictions\n",
    "\n",
    "👨‍💻 Created by: [Your Name]"
   ]
  }
 ],
 "metadata": {},
 "nbformat": 4,
 "nbformat_minor": 5
}
